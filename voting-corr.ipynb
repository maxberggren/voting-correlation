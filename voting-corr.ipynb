{
 "cells": [
  {
   "cell_type": "markdown",
   "metadata": {},
   "source": [
    "Sweden have a long tradition of keeping statistics of different KPI:s by municipality. Let's see what KPI:s correlate with different voting patterns. And while we're at it, demonstrate some Pandas method chaining – and do a Bayesian analysis of the Pearson product-moment correlation coefficient often denoted as Persons `r`.\n",
    "\n",
    "Note that the conclusions might mainly be of intrest of Swedes, and there will probably slip in some Swedish. Quick wordlist: `kommun = municipality, brott = crime, gravid = pregnant`.\n",
    "\n",
    "**TLDR;** Sweden Democrats (SD) shows high correlatons with mothers smoking while pregnant, unemployment and motorcycles. Also the table is a the bottom if you're not interested in code.\n",
    "\n",
    "And as usual, the Jupyter Notebook (former Ipython notebook) is here in a repo together with the data."
   ]
  },
  {
   "cell_type": "code",
   "execution_count": 26,
   "metadata": {
    "collapsed": false
   },
   "outputs": [],
   "source": [
    "import numpy as np\n",
    "import matplotlib.pyplot as plt\n",
    "import pandas as pd\n",
    "import seaborn as sns\n",
    "%matplotlib inline\n",
    "\n",
    "from matplotlib import rcParams\n",
    "rcParams['font.family'] = 'monospace'\n",
    "rcParams['font.sans-serif'] = ['Courier']"
   ]
  },
  {
   "cell_type": "markdown",
   "metadata": {},
   "source": [
    "Starting with the data from the Swedish election 2014, we can read it directly from an url with the very nice Pandas method `read_html`.\n",
    "\n",
    "Encapsulating the DataFrame `votes` with parentheseses makes method chaining possible. Every method in fact returns a DataFrame which makes every preprocessing step just another step in the chain."
   ]
  },
  {
   "cell_type": "markdown",
   "metadata": {},
   "source": [
    "### Percent votes in Swedish election 2014"
   ]
  },
  {
   "cell_type": "code",
   "execution_count": 2,
   "metadata": {
    "collapsed": false
   },
   "outputs": [
    {
     "data": {
      "text/html": [
       "<div>\n",
       "<table border=\"1\" class=\"dataframe\">\n",
       "  <thead>\n",
       "    <tr style=\"text-align: right;\">\n",
       "      <th></th>\n",
       "      <th>SD</th>\n",
       "      <th>M</th>\n",
       "      <th>C</th>\n",
       "      <th>FP</th>\n",
       "      <th>KD</th>\n",
       "      <th>S</th>\n",
       "      <th>V</th>\n",
       "      <th>MP</th>\n",
       "      <th>FI</th>\n",
       "      <th>ÖVR</th>\n",
       "      <th>BLANK</th>\n",
       "    </tr>\n",
       "    <tr>\n",
       "      <th>Kommun</th>\n",
       "      <th></th>\n",
       "      <th></th>\n",
       "      <th></th>\n",
       "      <th></th>\n",
       "      <th></th>\n",
       "      <th></th>\n",
       "      <th></th>\n",
       "      <th></th>\n",
       "      <th></th>\n",
       "      <th></th>\n",
       "      <th></th>\n",
       "    </tr>\n",
       "  </thead>\n",
       "  <tbody>\n",
       "    <tr>\n",
       "      <th>Ale</th>\n",
       "      <td>10.64</td>\n",
       "      <td>21.08</td>\n",
       "      <td>4.95</td>\n",
       "      <td>3.28</td>\n",
       "      <td>3.50</td>\n",
       "      <td>33.59</td>\n",
       "      <td>6.25</td>\n",
       "      <td>5.70</td>\n",
       "      <td>0.18</td>\n",
       "      <td>10.83</td>\n",
       "      <td>1.39</td>\n",
       "    </tr>\n",
       "    <tr>\n",
       "      <th>Alingsås</th>\n",
       "      <td>7.48</td>\n",
       "      <td>21.58</td>\n",
       "      <td>6.17</td>\n",
       "      <td>10.30</td>\n",
       "      <td>6.44</td>\n",
       "      <td>29.19</td>\n",
       "      <td>6.85</td>\n",
       "      <td>10.81</td>\n",
       "      <td>0.30</td>\n",
       "      <td>0.89</td>\n",
       "      <td>1.21</td>\n",
       "    </tr>\n",
       "    <tr>\n",
       "      <th>Alvesta</th>\n",
       "      <td>14.44</td>\n",
       "      <td>19.70</td>\n",
       "      <td>14.89</td>\n",
       "      <td>1.74</td>\n",
       "      <td>3.12</td>\n",
       "      <td>28.77</td>\n",
       "      <td>4.08</td>\n",
       "      <td>3.49</td>\n",
       "      <td>0.20</td>\n",
       "      <td>9.56</td>\n",
       "      <td>1.98</td>\n",
       "    </tr>\n",
       "  </tbody>\n",
       "</table>\n",
       "</div>"
      ],
      "text/plain": [
       "             SD      M      C     FP    KD      S     V     MP    FI    ÖVR  \\\n",
       "Kommun                                                                        \n",
       "Ale       10.64  21.08   4.95   3.28  3.50  33.59  6.25   5.70  0.18  10.83   \n",
       "Alingsås   7.48  21.58   6.17  10.30  6.44  29.19  6.85  10.81  0.30   0.89   \n",
       "Alvesta   14.44  19.70  14.89   1.74  3.12  28.77  4.08   3.49  0.20   9.56   \n",
       "\n",
       "          BLANK  \n",
       "Kommun           \n",
       "Ale        1.39  \n",
       "Alingsås   1.21  \n",
       "Alvesta    1.98  "
      ]
     },
     "execution_count": 2,
     "metadata": {},
     "output_type": "execute_result"
    }
   ],
   "source": [
    "votes = (pd.read_html('http://www.val.se/val/val2014/slutresultat/K/rike/index.html')[1]\n",
    "           .rename(columns={u'Område': 'Kommun'})\n",
    "           [['Kommun', 'SD', 'M', 'C', 'FP', 'KD', 'S', 'V', 'MP', 'FI', u'ÖVR', 'BLANK']]\n",
    "           .set_index('Kommun')\n",
    "           .apply(lambda x: x.str.replace(\",\", \".\")\n",
    "                             .str.replace(\"%\", \"\").astype(float))\n",
    ")\n",
    "partier = votes.columns\n",
    "votes.head(3)"
   ]
  },
  {
   "cell_type": "markdown",
   "metadata": {},
   "source": [
    "Now let's read some migration patterns straight of the web. I.e. what municipalitys that had a positive net growth in terms of people living there."
   ]
  },
  {
   "cell_type": "markdown",
   "metadata": {},
   "source": [
    "### Net inhabitant growth"
   ]
  },
  {
   "cell_type": "code",
   "execution_count": 3,
   "metadata": {
    "collapsed": false
   },
   "outputs": [
    {
     "data": {
      "text/html": [
       "<div>\n",
       "<table border=\"1\" class=\"dataframe\">\n",
       "  <thead>\n",
       "    <tr style=\"text-align: right;\">\n",
       "      <th></th>\n",
       "      <th>Befolkningsökning, 2012-2015, procent, treårsbasis</th>\n",
       "    </tr>\n",
       "    <tr>\n",
       "      <th>Kommun</th>\n",
       "      <th></th>\n",
       "    </tr>\n",
       "  </thead>\n",
       "  <tbody>\n",
       "    <tr>\n",
       "      <th>Ale</th>\n",
       "      <td>3.7</td>\n",
       "    </tr>\n",
       "    <tr>\n",
       "      <th>Alingsås</th>\n",
       "      <td>3.3</td>\n",
       "    </tr>\n",
       "    <tr>\n",
       "      <th>Alvesta</th>\n",
       "      <td>2.9</td>\n",
       "    </tr>\n",
       "  </tbody>\n",
       "</table>\n",
       "</div>"
      ],
      "text/plain": [
       "          Befolkningsökning, 2012-2015, procent, treårsbasis\n",
       "Kommun                                                      \n",
       "Ale                                                     3.7 \n",
       "Alingsås                                                3.3 \n",
       "Alvesta                                                 2.9 "
      ]
     },
     "execution_count": 3,
     "metadata": {},
     "output_type": "execute_result"
    }
   ],
   "source": [
    "url = 'http://www.ekonomifakta.se/Fakta/Regional-statistik/Din-kommun-i-siffror/Nyckeltal-for-regioner/?var=17248'\n",
    "col = u'Befolkningsökning, 2012-2015, procent, treårsbasis'\n",
    "befolkningsokning = (\n",
    "    pd.read_html(url, thousands=' ')[0]\n",
    "      .assign(**{col: lambda x: x[col].str.replace(u\",\", u\".\").astype(float)})\n",
    "      .set_index('Kommun')\n",
    ")\n",
    "befolkningsokning.head(3)"
   ]
  },
  {
   "cell_type": "markdown",
   "metadata": {},
   "source": [
    "### Rating of how good a municipality is for companies"
   ]
  },
  {
   "cell_type": "code",
   "execution_count": 4,
   "metadata": {
    "collapsed": false
   },
   "outputs": [
    {
     "data": {
      "text/html": [
       "<div>\n",
       "<table border=\"1\" class=\"dataframe\">\n",
       "  <thead>\n",
       "    <tr style=\"text-align: right;\">\n",
       "      <th></th>\n",
       "      <th>Företagsklimat, ranking 1-290, 2015, ordningstal</th>\n",
       "    </tr>\n",
       "    <tr>\n",
       "      <th>Kommun</th>\n",
       "      <th></th>\n",
       "    </tr>\n",
       "  </thead>\n",
       "  <tbody>\n",
       "    <tr>\n",
       "      <th>Ale</th>\n",
       "      <td>43</td>\n",
       "    </tr>\n",
       "    <tr>\n",
       "      <th>Alingsås</th>\n",
       "      <td>185</td>\n",
       "    </tr>\n",
       "    <tr>\n",
       "      <th>Alvesta</th>\n",
       "      <td>221</td>\n",
       "    </tr>\n",
       "  </tbody>\n",
       "</table>\n",
       "</div>"
      ],
      "text/plain": [
       "          Företagsklimat, ranking 1-290, 2015, ordningstal\n",
       "Kommun                                                    \n",
       "Ale                                                     43\n",
       "Alingsås                                               185\n",
       "Alvesta                                                221"
      ]
     },
     "execution_count": 4,
     "metadata": {},
     "output_type": "execute_result"
    }
   ],
   "source": [
    "url = 'http://www.ekonomifakta.se/Fakta/Regional-statistik/Din-kommun-i-siffror/Nyckeltal-for-regioner/?var=17257'\n",
    "col = u'Företagsklimat, ranking 1-290, 2015, ordningstal'\n",
    "foretagsklimat = (\n",
    "    pd.read_html(url, thousands=' ')[0]\n",
    "      .assign(**{col: lambda x: x[col].astype(int)})\n",
    "      .set_index('Kommun')\n",
    ")\n",
    "foretagsklimat.head(3)"
   ]
  },
  {
   "cell_type": "markdown",
   "metadata": {},
   "source": [
    "### Percent people with a higher education"
   ]
  },
  {
   "cell_type": "code",
   "execution_count": 5,
   "metadata": {
    "collapsed": false
   },
   "outputs": [
    {
     "data": {
      "text/html": [
       "<div>\n",
       "<table border=\"1\" class=\"dataframe\">\n",
       "  <thead>\n",
       "    <tr style=\"text-align: right;\">\n",
       "      <th></th>\n",
       "      <th>Andel högskoleutbildade, 2015, procent</th>\n",
       "    </tr>\n",
       "    <tr>\n",
       "      <th>Kommun</th>\n",
       "      <th></th>\n",
       "    </tr>\n",
       "  </thead>\n",
       "  <tbody>\n",
       "    <tr>\n",
       "      <th>Ale</th>\n",
       "      <td>18.9</td>\n",
       "    </tr>\n",
       "    <tr>\n",
       "      <th>Alingsås</th>\n",
       "      <td>24.3</td>\n",
       "    </tr>\n",
       "    <tr>\n",
       "      <th>Alvesta</th>\n",
       "      <td>15.0</td>\n",
       "    </tr>\n",
       "  </tbody>\n",
       "</table>\n",
       "</div>"
      ],
      "text/plain": [
       "          Andel högskoleutbildade, 2015, procent\n",
       "Kommun                                          \n",
       "Ale                                         18.9\n",
       "Alingsås                                    24.3\n",
       "Alvesta                                     15.0"
      ]
     },
     "execution_count": 5,
     "metadata": {},
     "output_type": "execute_result"
    }
   ],
   "source": [
    "url = 'http://www.ekonomifakta.se/Fakta/Regional-statistik/Din-kommun-i-siffror/Nyckeltal-for-regioner/?var=17251'\n",
    "col = u'Andel högskoleutbildade, 2015, procent'\n",
    "hogskoleutbildning = (\n",
    "    pd.read_html(url, thousands=' ')[0]\n",
    "      .assign(**{col: lambda x: x[col].str.replace(u\",\", u\".\").astype(float)})\n",
    "      .set_index('Kommun')\n",
    ")\n",
    "hogskoleutbildning.head(3)"
   ]
  },
  {
   "cell_type": "markdown",
   "metadata": {},
   "source": [
    "### Percent early retirees\n"
   ]
  },
  {
   "cell_type": "code",
   "execution_count": 6,
   "metadata": {
    "collapsed": false
   },
   "outputs": [
    {
     "data": {
      "text/html": [
       "<div>\n",
       "<table border=\"1\" class=\"dataframe\">\n",
       "  <thead>\n",
       "    <tr style=\"text-align: right;\">\n",
       "      <th></th>\n",
       "      <th>Andel förtidspensionärer, 2015, procent</th>\n",
       "    </tr>\n",
       "    <tr>\n",
       "      <th>Kommun</th>\n",
       "      <th></th>\n",
       "    </tr>\n",
       "  </thead>\n",
       "  <tbody>\n",
       "    <tr>\n",
       "      <th>Ale</th>\n",
       "      <td>5.5</td>\n",
       "    </tr>\n",
       "    <tr>\n",
       "      <th>Alingsås</th>\n",
       "      <td>6.5</td>\n",
       "    </tr>\n",
       "    <tr>\n",
       "      <th>Alvesta</th>\n",
       "      <td>6.0</td>\n",
       "    </tr>\n",
       "  </tbody>\n",
       "</table>\n",
       "</div>"
      ],
      "text/plain": [
       "          Andel förtidspensionärer, 2015, procent\n",
       "Kommun                                           \n",
       "Ale                                           5.5\n",
       "Alingsås                                      6.5\n",
       "Alvesta                                       6.0"
      ]
     },
     "execution_count": 6,
     "metadata": {},
     "output_type": "execute_result"
    }
   ],
   "source": [
    "url = 'http://www.ekonomifakta.se/Fakta/Regional-statistik/Din-kommun-i-siffror/Nyckeltal-for-regioner/?var=17256'\n",
    "col = u'Andel förtidspensionärer, 2015, procent'\n",
    "fortidspensionarer = (\n",
    "    pd.read_html(url, thousands=' ')[0]\n",
    "      .assign(**{col: lambda x: x[col].str.replace(u\",\", u\".\").astype(float)})\n",
    "      .set_index('Kommun')\n",
    ")\n",
    "fortidspensionarer.head(3)"
   ]
  },
  {
   "cell_type": "markdown",
   "metadata": {},
   "source": [
    "### Median income"
   ]
  },
  {
   "cell_type": "code",
   "execution_count": 7,
   "metadata": {
    "collapsed": false
   },
   "outputs": [
    {
     "data": {
      "text/html": [
       "<div>\n",
       "<table border=\"1\" class=\"dataframe\">\n",
       "  <thead>\n",
       "    <tr style=\"text-align: right;\">\n",
       "      <th></th>\n",
       "      <th>Medianinkomst, 2014, kronor</th>\n",
       "    </tr>\n",
       "    <tr>\n",
       "      <th>Kommun</th>\n",
       "      <th></th>\n",
       "    </tr>\n",
       "  </thead>\n",
       "  <tbody>\n",
       "    <tr>\n",
       "      <th>Ale</th>\n",
       "      <td>273684</td>\n",
       "    </tr>\n",
       "    <tr>\n",
       "      <th>Alingsås</th>\n",
       "      <td>259211</td>\n",
       "    </tr>\n",
       "    <tr>\n",
       "      <th>Alvesta</th>\n",
       "      <td>241077</td>\n",
       "    </tr>\n",
       "  </tbody>\n",
       "</table>\n",
       "</div>"
      ],
      "text/plain": [
       "          Medianinkomst, 2014, kronor\n",
       "Kommun                               \n",
       "Ale                            273684\n",
       "Alingsås                       259211\n",
       "Alvesta                        241077"
      ]
     },
     "execution_count": 7,
     "metadata": {},
     "output_type": "execute_result"
    }
   ],
   "source": [
    "url = 'http://www.ekonomifakta.se/Fakta/Regional-statistik/Din-kommun-i-siffror/Nyckeltal-for-regioner/?var=17249'\n",
    "col = u'Medianinkomst, 2014, kronor'\n",
    "medianinkomst = (\n",
    "    pd.read_html(url, thousands=' ')[0]\n",
    "      .assign(**{col: lambda x: x[col].str.replace(u\"\\xa0\", u\"\").astype(int)})\n",
    "      .set_index('Kommun')\n",
    ")\n",
    "medianinkomst.head(3)"
   ]
  },
  {
   "cell_type": "markdown",
   "metadata": {},
   "source": [
    "### Unemployment rate"
   ]
  },
  {
   "cell_type": "code",
   "execution_count": 8,
   "metadata": {
    "collapsed": false
   },
   "outputs": [
    {
     "data": {
      "text/html": [
       "<div>\n",
       "<table border=\"1\" class=\"dataframe\">\n",
       "  <thead>\n",
       "    <tr style=\"text-align: right;\">\n",
       "      <th></th>\n",
       "      <th>Öppen arbetslöshet (Arbetsförmedlingen), 2015, procent</th>\n",
       "    </tr>\n",
       "    <tr>\n",
       "      <th>Kommun</th>\n",
       "      <th></th>\n",
       "    </tr>\n",
       "  </thead>\n",
       "  <tbody>\n",
       "    <tr>\n",
       "      <th>Ale</th>\n",
       "      <td>4.9</td>\n",
       "    </tr>\n",
       "    <tr>\n",
       "      <th>Alingsås</th>\n",
       "      <td>5.5</td>\n",
       "    </tr>\n",
       "    <tr>\n",
       "      <th>Alvesta</th>\n",
       "      <td>9.3</td>\n",
       "    </tr>\n",
       "  </tbody>\n",
       "</table>\n",
       "</div>"
      ],
      "text/plain": [
       "          Öppen arbetslöshet (Arbetsförmedlingen), 2015, procent\n",
       "Kommun                                                          \n",
       "Ale                                                     4.9     \n",
       "Alingsås                                                5.5     \n",
       "Alvesta                                                 9.3     "
      ]
     },
     "execution_count": 8,
     "metadata": {},
     "output_type": "execute_result"
    }
   ],
   "source": [
    "url = 'http://www.ekonomifakta.se/Fakta/Regional-statistik/Din-kommun-i-siffror/Nyckeltal-for-regioner/?var=17255'\n",
    "col = u'Öppen arbetslöshet (Arbetsförmedlingen), 2015, procent'\n",
    "arbetsloshet = (\n",
    "    pd.read_html(url, thousands=' ')[0]\n",
    "      .assign(**{col: lambda x: x[col].str.replace(u\",\", u\".\").astype(float)})\n",
    "      .set_index('Kommun')\n",
    ")\n",
    "arbetsloshet.head(3)"
   ]
  },
  {
   "cell_type": "markdown",
   "metadata": {},
   "source": [
    "### Number of crimes per 100k inhabitants"
   ]
  },
  {
   "cell_type": "code",
   "execution_count": 9,
   "metadata": {
    "collapsed": false
   },
   "outputs": [
    {
     "data": {
      "text/html": [
       "<div>\n",
       "<table border=\"1\" class=\"dataframe\">\n",
       "  <thead>\n",
       "    <tr style=\"text-align: right;\">\n",
       "      <th></th>\n",
       "      <th>Brott per 100k inv</th>\n",
       "    </tr>\n",
       "    <tr>\n",
       "      <th>Kommun</th>\n",
       "      <th></th>\n",
       "    </tr>\n",
       "  </thead>\n",
       "  <tbody>\n",
       "    <tr>\n",
       "      <th>Ale</th>\n",
       "      <td>8231</td>\n",
       "    </tr>\n",
       "    <tr>\n",
       "      <th>Alingsås</th>\n",
       "      <td>10511</td>\n",
       "    </tr>\n",
       "    <tr>\n",
       "      <th>Alvesta</th>\n",
       "      <td>8300</td>\n",
       "    </tr>\n",
       "  </tbody>\n",
       "</table>\n",
       "</div>"
      ],
      "text/plain": [
       "          Brott per 100k inv\n",
       "Kommun                      \n",
       "Ale                     8231\n",
       "Alingsås               10511\n",
       "Alvesta                 8300"
      ]
     },
     "execution_count": 9,
     "metadata": {},
     "output_type": "execute_result"
    }
   ],
   "source": [
    "brott = (pd.read_csv(\"brott_per_1000.txt\", sep=\";\", encoding=\"latin-1\")\n",
    "        .rename(columns={\"Region\": \"Kommun\", \"/100 000 inv\": \"Brott per 100k inv\"})\n",
    "        .groupby(\"Kommun\")\n",
    "        .sum()\n",
    "        .reset_index()\n",
    "        [['Kommun', 'Brott per 100k inv']]\n",
    "        .assign(Kommun= lambda x: x['Kommun'].str.replace(\" kommun\", \"\"))\n",
    "        .set_index('Kommun'))\n",
    "brott.head(3)"
   ]
  },
  {
   "cell_type": "markdown",
   "metadata": {},
   "source": [
    "### Violent crimes"
   ]
  },
  {
   "cell_type": "code",
   "execution_count": 10,
   "metadata": {
    "collapsed": false
   },
   "outputs": [
    {
     "data": {
      "text/html": [
       "<div>\n",
       "<table border=\"1\" class=\"dataframe\">\n",
       "  <thead>\n",
       "    <tr style=\"text-align: right;\">\n",
       "      <th></th>\n",
       "      <th>Våldsbrott per 100k inv</th>\n",
       "    </tr>\n",
       "    <tr>\n",
       "      <th>Kommun</th>\n",
       "      <th></th>\n",
       "    </tr>\n",
       "  </thead>\n",
       "  <tbody>\n",
       "    <tr>\n",
       "      <th>Ale</th>\n",
       "      <td>823</td>\n",
       "    </tr>\n",
       "    <tr>\n",
       "      <th>Alingsås</th>\n",
       "      <td>870</td>\n",
       "    </tr>\n",
       "    <tr>\n",
       "      <th>Alvesta</th>\n",
       "      <td>967</td>\n",
       "    </tr>\n",
       "  </tbody>\n",
       "</table>\n",
       "</div>"
      ],
      "text/plain": [
       "          Våldsbrott per 100k inv\n",
       "Kommun                           \n",
       "Ale                           823\n",
       "Alingsås                      870\n",
       "Alvesta                       967"
      ]
     },
     "execution_count": 10,
     "metadata": {},
     "output_type": "execute_result"
    }
   ],
   "source": [
    "valdsbrott = (pd.read_csv(\"vbrott_per_1000.txt\", sep=\";\", encoding=\"latin-1\")\n",
    "        .rename(columns={\"Region\": \"Kommun\", \"/100 000 inv\": u\"Våldsbrott per 100k inv\"})\n",
    "        .groupby(\"Kommun\")\n",
    "        .sum()\n",
    "        .reset_index()\n",
    "        [['Kommun', u'Våldsbrott per 100k inv']]\n",
    "        .assign(Kommun= lambda x: x['Kommun'].str.replace(\" kommun\", \"\"))\n",
    "        .set_index('Kommun'))\n",
    "valdsbrott.head(3)"
   ]
  },
  {
   "cell_type": "markdown",
   "metadata": {},
   "source": [
    "### Drug crimes"
   ]
  },
  {
   "cell_type": "code",
   "execution_count": 11,
   "metadata": {
    "collapsed": false
   },
   "outputs": [
    {
     "data": {
      "text/html": [
       "<div>\n",
       "<table border=\"1\" class=\"dataframe\">\n",
       "  <thead>\n",
       "    <tr style=\"text-align: right;\">\n",
       "      <th></th>\n",
       "      <th>Narkotikabrott per 100k inv</th>\n",
       "    </tr>\n",
       "    <tr>\n",
       "      <th>Kommun</th>\n",
       "      <th></th>\n",
       "    </tr>\n",
       "  </thead>\n",
       "  <tbody>\n",
       "    <tr>\n",
       "      <th>Ale</th>\n",
       "      <td>402</td>\n",
       "    </tr>\n",
       "    <tr>\n",
       "      <th>Alingsås</th>\n",
       "      <td>1487</td>\n",
       "    </tr>\n",
       "    <tr>\n",
       "      <th>Alvesta</th>\n",
       "      <td>327</td>\n",
       "    </tr>\n",
       "  </tbody>\n",
       "</table>\n",
       "</div>"
      ],
      "text/plain": [
       "          Narkotikabrott per 100k inv\n",
       "Kommun                               \n",
       "Ale                               402\n",
       "Alingsås                         1487\n",
       "Alvesta                           327"
      ]
     },
     "execution_count": 11,
     "metadata": {},
     "output_type": "execute_result"
    }
   ],
   "source": [
    "knarkbrott = (pd.read_csv(\"knarkbrott_per_1000.txt\", sep=\";\", encoding=\"latin-1\")\n",
    "        .rename(columns={\"Region\": \"Kommun\", \"/100 000 inv\": u\"Narkotikabrott per 100k inv\"})\n",
    "        .groupby(\"Kommun\")\n",
    "        .sum()\n",
    "        .reset_index()\n",
    "        [['Kommun', u'Narkotikabrott per 100k inv']]\n",
    "        .assign(Kommun= lambda x: x['Kommun'].str.replace(\" kommun\", \"\"))\n",
    "        .set_index('Kommun'))\n",
    "knarkbrott.head(3)"
   ]
  },
  {
   "cell_type": "markdown",
   "metadata": {},
   "source": [
    "### Mean age"
   ]
  },
  {
   "cell_type": "code",
   "execution_count": 12,
   "metadata": {
    "collapsed": false
   },
   "outputs": [
    {
     "data": {
      "text/html": [
       "<div>\n",
       "<table border=\"1\" class=\"dataframe\">\n",
       "  <thead>\n",
       "    <tr style=\"text-align: right;\">\n",
       "      <th></th>\n",
       "      <th>Medelålder, 2015, år</th>\n",
       "    </tr>\n",
       "    <tr>\n",
       "      <th>Kommun</th>\n",
       "      <th></th>\n",
       "    </tr>\n",
       "  </thead>\n",
       "  <tbody>\n",
       "    <tr>\n",
       "      <th>Ale</th>\n",
       "      <td>39.9</td>\n",
       "    </tr>\n",
       "    <tr>\n",
       "      <th>Alingsås</th>\n",
       "      <td>42.0</td>\n",
       "    </tr>\n",
       "    <tr>\n",
       "      <th>Alvesta</th>\n",
       "      <td>42.1</td>\n",
       "    </tr>\n",
       "  </tbody>\n",
       "</table>\n",
       "</div>"
      ],
      "text/plain": [
       "          Medelålder, 2015, år\n",
       "Kommun                        \n",
       "Ale                       39.9\n",
       "Alingsås                  42.0\n",
       "Alvesta                   42.1"
      ]
     },
     "execution_count": 12,
     "metadata": {},
     "output_type": "execute_result"
    }
   ],
   "source": [
    "url = 'http://www.ekonomifakta.se/Fakta/Regional-statistik/Din-kommun-i-siffror/Nyckeltal-for-regioner/?var=17247'\n",
    "col = u'Medelålder, 2015, år'\n",
    "medianalder = (\n",
    "    pd.read_html(url, thousands=' ')[0]\n",
    "      .assign(**{col: lambda x: x[col].str.replace(u\",\", u\".\").astype(float)})\n",
    "      .set_index('Kommun')\n",
    ")\n",
    "medianalder.head(3)"
   ]
  },
  {
   "cell_type": "markdown",
   "metadata": {},
   "source": [
    "### Percent born in another country than Sweden"
   ]
  },
  {
   "cell_type": "code",
   "execution_count": 13,
   "metadata": {
    "collapsed": false
   },
   "outputs": [
    {
     "data": {
      "text/html": [
       "<div>\n",
       "<table border=\"1\" class=\"dataframe\">\n",
       "  <thead>\n",
       "    <tr style=\"text-align: right;\">\n",
       "      <th></th>\n",
       "      <th>Procent utrikesfödda</th>\n",
       "    </tr>\n",
       "    <tr>\n",
       "      <th>Kommun</th>\n",
       "      <th></th>\n",
       "    </tr>\n",
       "  </thead>\n",
       "  <tbody>\n",
       "    <tr>\n",
       "      <th>Botkyrka</th>\n",
       "      <td>40.1</td>\n",
       "    </tr>\n",
       "    <tr>\n",
       "      <th>Danderyd</th>\n",
       "      <td>15.3</td>\n",
       "    </tr>\n",
       "    <tr>\n",
       "      <th>Ekerö</th>\n",
       "      <td>11.0</td>\n",
       "    </tr>\n",
       "  </tbody>\n",
       "</table>\n",
       "</div>"
      ],
      "text/plain": [
       "          Procent utrikesfödda\n",
       "Kommun                        \n",
       "Botkyrka                  40.1\n",
       "Danderyd                  15.3\n",
       "Ekerö                     11.0"
      ]
     },
     "execution_count": 13,
     "metadata": {},
     "output_type": "execute_result"
    }
   ],
   "source": [
    "utrikesfodda = (pd.read_excel(\"BE0101-Utrikes-fodda-kom-fland.xlsx\", header=5)\n",
    "        .dropna(subset=[u'Kommun'])\n",
    "        .assign(procent= lambda x: x[u'I procent'].astype(float))\n",
    "        .rename(columns={'procent': u'Procent utrikesfödda'})\n",
    "        [['Kommun', u'Procent utrikesfödda']]\n",
    "        .set_index('Kommun')\n",
    ")\n",
    "utrikesfodda.head(3)"
   ]
  },
  {
   "cell_type": "markdown",
   "metadata": {},
   "source": [
    "### Percent mothers smoking while pregnant"
   ]
  },
  {
   "cell_type": "code",
   "execution_count": 14,
   "metadata": {
    "collapsed": false
   },
   "outputs": [
    {
     "data": {
      "text/html": [
       "<div>\n",
       "<table border=\"1\" class=\"dataframe\">\n",
       "  <thead>\n",
       "    <tr style=\"text-align: right;\">\n",
       "      <th></th>\n",
       "      <th>Rökande gravida, procent</th>\n",
       "    </tr>\n",
       "    <tr>\n",
       "      <th>Kommun</th>\n",
       "      <th></th>\n",
       "    </tr>\n",
       "  </thead>\n",
       "  <tbody>\n",
       "    <tr>\n",
       "      <th>Upplands Väsby</th>\n",
       "      <td>3.6</td>\n",
       "    </tr>\n",
       "    <tr>\n",
       "      <th>Vallentuna</th>\n",
       "      <td>2.3</td>\n",
       "    </tr>\n",
       "    <tr>\n",
       "      <th>Österåker</th>\n",
       "      <td>2.9</td>\n",
       "    </tr>\n",
       "  </tbody>\n",
       "</table>\n",
       "</div>"
      ],
      "text/plain": [
       "                Rökande gravida, procent\n",
       "Kommun                                  \n",
       "Upplands Väsby                       3.6\n",
       "Vallentuna                           2.3\n",
       "Österåker                            2.9"
      ]
     },
     "execution_count": 14,
     "metadata": {},
     "output_type": "execute_result"
    }
   ],
   "source": [
    "rokande_grav = (\n",
    "    pd.read_excel(\"Lev03.xlsx\", header=3)\n",
    "      .reset_index()\n",
    "      .rename(columns={'index': 'Kommun', '2014': u'Rökande gravida, procent'})\n",
    "      .assign(Kommun=lambda x: x['Kommun'].str.split())\n",
    "      .assign(Kommun=lambda x: x['Kommun'].str[1:])\n",
    "      .assign(Kommun=lambda x: x['Kommun'].str.join(\" \"))\n",
    "      .dropna()\n",
    "      .set_index('Kommun')\n",
    "      .replace(\"..\", 0)\n",
    "      .assign(**{u'Rökande gravida, procent': lambda x: x[u'Rökande gravida, procent'].astype(float)})\n",
    ")\n",
    "rokande_grav.head(3)"
   ]
  },
  {
   "cell_type": "markdown",
   "metadata": {},
   "source": [
    "### Rapes per 10k inhabitants"
   ]
  },
  {
   "cell_type": "code",
   "execution_count": 15,
   "metadata": {
    "collapsed": false
   },
   "outputs": [
    {
     "data": {
      "text/html": [
       "<div>\n",
       "<table border=\"1\" class=\"dataframe\">\n",
       "  <thead>\n",
       "    <tr style=\"text-align: right;\">\n",
       "      <th></th>\n",
       "      <th>Våldtäkter per 10k inv</th>\n",
       "    </tr>\n",
       "    <tr>\n",
       "      <th>Kommun</th>\n",
       "      <th></th>\n",
       "    </tr>\n",
       "  </thead>\n",
       "  <tbody>\n",
       "    <tr>\n",
       "      <th>Upplands Väsby</th>\n",
       "      <td>5.0</td>\n",
       "    </tr>\n",
       "    <tr>\n",
       "      <th>Vallentuna</th>\n",
       "      <td>1.9</td>\n",
       "    </tr>\n",
       "    <tr>\n",
       "      <th>Österåker</th>\n",
       "      <td>2.2</td>\n",
       "    </tr>\n",
       "  </tbody>\n",
       "</table>\n",
       "</div>"
      ],
      "text/plain": [
       "                Våldtäkter per 10k inv\n",
       "Kommun                                \n",
       "Upplands Väsby                     5.0\n",
       "Vallentuna                         1.9\n",
       "Österåker                          2.2"
      ]
     },
     "execution_count": 15,
     "metadata": {},
     "output_type": "execute_result"
    }
   ],
   "source": [
    "valdtakter = (\n",
    "    pd.read_excel(\"Sex03.xlsx\", header=3)\n",
    "      .reset_index()\n",
    "      .rename(columns={'index': 'Kommun', '2015': u'Våldtäkter per 10k inv'})\n",
    "      .assign(Kommun=lambda x: x['Kommun'].str.split())\n",
    "      .assign(Kommun=lambda x: x['Kommun'].str[1:])\n",
    "      .assign(Kommun=lambda x: x['Kommun'].str.join(\" \"))\n",
    "      .dropna()\n",
    "      .set_index('Kommun')\n",
    "      .assign(**{u'Våldtäkter per 10k inv': lambda x: x[u'Våldtäkter per 10k inv'].astype(float)})\n",
    ")\n",
    "valdtakter.head(3)"
   ]
  },
  {
   "cell_type": "markdown",
   "metadata": {},
   "source": [
    "### Asylum seekers per 1k inhabitants"
   ]
  },
  {
   "cell_type": "code",
   "execution_count": 16,
   "metadata": {
    "collapsed": false
   },
   "outputs": [
    {
     "data": {
      "text/html": [
       "<div>\n",
       "<table border=\"1\" class=\"dataframe\">\n",
       "  <thead>\n",
       "    <tr style=\"text-align: right;\">\n",
       "      <th></th>\n",
       "      <th>Antal asylsökande per 1000 invånare</th>\n",
       "    </tr>\n",
       "    <tr>\n",
       "      <th>Kommun</th>\n",
       "      <th></th>\n",
       "    </tr>\n",
       "  </thead>\n",
       "  <tbody>\n",
       "    <tr>\n",
       "      <th>Ljusnarsberg</th>\n",
       "      <td>138.26</td>\n",
       "    </tr>\n",
       "    <tr>\n",
       "      <th>Norberg</th>\n",
       "      <td>113.94</td>\n",
       "    </tr>\n",
       "    <tr>\n",
       "      <th>Hultsfred</th>\n",
       "      <td>78.33</td>\n",
       "    </tr>\n",
       "  </tbody>\n",
       "</table>\n",
       "</div>"
      ],
      "text/plain": [
       "              Antal asylsökande per 1000 invånare\n",
       "Kommun                                           \n",
       "Ljusnarsberg                               138.26\n",
       "Norberg                                    113.94\n",
       "Hultsfred                                   78.33"
      ]
     },
     "execution_count": 16,
     "metadata": {},
     "output_type": "execute_result"
    }
   ],
   "source": [
    "asylsokande = (pd.read_excel(\"asylsdochm.xlsx\", header=1)\n",
    "        .dropna(subset=[u'Kommun'])\n",
    "        .rename(columns={u'Antal asylsökande per': u'Antal asylsökande per 1000 invånare'})\n",
    "        [['Kommun', u'Antal asylsökande per 1000 invånare']]\n",
    "        .set_index('Kommun')\n",
    "        .assign(**{u'Antal asylsökande per 1000 invånare': lambda x: x[u'Antal asylsökande per 1000 invånare'].astype(float)})\n",
    "\n",
    ")\n",
    "asylsokande.head(3)"
   ]
  },
  {
   "cell_type": "markdown",
   "metadata": {},
   "source": [
    "### Types of vehicles"
   ]
  },
  {
   "cell_type": "code",
   "execution_count": 17,
   "metadata": {
    "collapsed": false
   },
   "outputs": [
    {
     "data": {
      "text/html": [
       "<div>\n",
       "<table border=\"1\" class=\"dataframe\">\n",
       "  <thead>\n",
       "    <tr style=\"text-align: right;\">\n",
       "      <th></th>\n",
       "      <th>Personbilar, 2015, procent</th>\n",
       "      <th>Lastbilar, 2015, procent</th>\n",
       "      <th>Bussar, 2015, procent</th>\n",
       "      <th>Motorcyklar, 2015, procent</th>\n",
       "      <th>Mopeder, 2015, procent</th>\n",
       "      <th>Traktorer, 2015, procent</th>\n",
       "      <th>Snöskotrar, 2015, procent</th>\n",
       "      <th>Terränghjulingar, 2015, procent</th>\n",
       "      <th>Terrängskotrar1), 2015, procent</th>\n",
       "      <th>Släpvagnar, 2015, procent</th>\n",
       "    </tr>\n",
       "    <tr>\n",
       "      <th>Kommun</th>\n",
       "      <th></th>\n",
       "      <th></th>\n",
       "      <th></th>\n",
       "      <th></th>\n",
       "      <th></th>\n",
       "      <th></th>\n",
       "      <th></th>\n",
       "      <th></th>\n",
       "      <th></th>\n",
       "      <th></th>\n",
       "    </tr>\n",
       "  </thead>\n",
       "  <tbody>\n",
       "    <tr>\n",
       "      <th>Upplands Väsby</th>\n",
       "      <td>0.757944</td>\n",
       "      <td>0.069553</td>\n",
       "      <td>0.000088</td>\n",
       "      <td>0.042546</td>\n",
       "      <td>0.009148</td>\n",
       "      <td>0.007748</td>\n",
       "      <td>0.006128</td>\n",
       "      <td>0.005077</td>\n",
       "      <td>0.000175</td>\n",
       "      <td>0.101593</td>\n",
       "    </tr>\n",
       "    <tr>\n",
       "      <th>Vallentuna</th>\n",
       "      <td>0.672324</td>\n",
       "      <td>0.066290</td>\n",
       "      <td>0.000000</td>\n",
       "      <td>0.051673</td>\n",
       "      <td>0.009153</td>\n",
       "      <td>0.029813</td>\n",
       "      <td>0.008131</td>\n",
       "      <td>0.021327</td>\n",
       "      <td>0.000489</td>\n",
       "      <td>0.140801</td>\n",
       "    </tr>\n",
       "    <tr>\n",
       "      <th>Österåker</th>\n",
       "      <td>0.692083</td>\n",
       "      <td>0.069446</td>\n",
       "      <td>0.000252</td>\n",
       "      <td>0.047521</td>\n",
       "      <td>0.013716</td>\n",
       "      <td>0.015516</td>\n",
       "      <td>0.009396</td>\n",
       "      <td>0.010332</td>\n",
       "      <td>0.000252</td>\n",
       "      <td>0.141484</td>\n",
       "    </tr>\n",
       "  </tbody>\n",
       "</table>\n",
       "</div>"
      ],
      "text/plain": [
       "                Personbilar, 2015, procent  Lastbilar, 2015, procent  \\\n",
       "Kommun                                                                 \n",
       "Upplands Väsby                    0.757944                  0.069553   \n",
       "Vallentuna                        0.672324                  0.066290   \n",
       "Österåker                         0.692083                  0.069446   \n",
       "\n",
       "                Bussar, 2015, procent  Motorcyklar, 2015, procent  \\\n",
       "Kommun                                                              \n",
       "Upplands Väsby               0.000088                    0.042546   \n",
       "Vallentuna                   0.000000                    0.051673   \n",
       "Österåker                    0.000252                    0.047521   \n",
       "\n",
       "                Mopeder, 2015, procent  Traktorer, 2015, procent  \\\n",
       "Kommun                                                             \n",
       "Upplands Väsby                0.009148                  0.007748   \n",
       "Vallentuna                    0.009153                  0.029813   \n",
       "Österåker                     0.013716                  0.015516   \n",
       "\n",
       "                Snöskotrar, 2015, procent  Terränghjulingar, 2015, procent  \\\n",
       "Kommun                                                                       \n",
       "Upplands Väsby                   0.006128                         0.005077   \n",
       "Vallentuna                       0.008131                         0.021327   \n",
       "Österåker                        0.009396                         0.010332   \n",
       "\n",
       "                Terrängskotrar1), 2015, procent  Släpvagnar, 2015, procent  \n",
       "Kommun                                                                      \n",
       "Upplands Väsby                         0.000175                   0.101593  \n",
       "Vallentuna                             0.000489                   0.140801  \n",
       "Österåker                              0.000252                   0.141484  "
      ]
     },
     "execution_count": 17,
     "metadata": {},
     "output_type": "execute_result"
    }
   ],
   "source": [
    "fordon = (pd.read_excel(\"Fordon_lan_och_kommuner_2015.xlsx\", header=5, sheetname=2)\n",
    "        .dropna(subset=[u'Kommun'])\n",
    "        .set_index('Kommun')\n",
    "        .drop(['Kommun-', 'Unnamed: 4', 'Unnamed: 5', 'Unnamed: 6'], axis=1)\n",
    "        .apply(lambda x: x.astype(float))\n",
    "        .apply(lambda x: x/sum(x), axis=1) # Convert to percentages\n",
    "        .dropna()\n",
    "        .rename(index=lambda x: x.strip())\n",
    "        .rename(columns=lambda x: x.strip())\n",
    "        .rename(columns=lambda x: x + \", 2015, procent\")\n",
    "\n",
    ")\n",
    "fordon.head(3)"
   ]
  },
  {
   "cell_type": "markdown",
   "metadata": {},
   "source": [
    "Since we now have every KPI as a DataFrame, let's put them together with `concat`."
   ]
  },
  {
   "cell_type": "code",
   "execution_count": 18,
   "metadata": {
    "collapsed": false
   },
   "outputs": [
    {
     "data": {
      "text/html": [
       "<div>\n",
       "<table border=\"1\" class=\"dataframe\">\n",
       "  <thead>\n",
       "    <tr style=\"text-align: right;\">\n",
       "      <th></th>\n",
       "      <th>SD</th>\n",
       "      <th>M</th>\n",
       "      <th>C</th>\n",
       "      <th>FP</th>\n",
       "      <th>KD</th>\n",
       "      <th>S</th>\n",
       "      <th>V</th>\n",
       "      <th>MP</th>\n",
       "      <th>FI</th>\n",
       "      <th>ÖVR</th>\n",
       "      <th>...</th>\n",
       "      <th>Bussar, 2015, procent</th>\n",
       "      <th>Motorcyklar, 2015, procent</th>\n",
       "      <th>Mopeder, 2015, procent</th>\n",
       "      <th>Traktorer, 2015, procent</th>\n",
       "      <th>Snöskotrar, 2015, procent</th>\n",
       "      <th>Terränghjulingar, 2015, procent</th>\n",
       "      <th>Terrängskotrar1), 2015, procent</th>\n",
       "      <th>Släpvagnar, 2015, procent</th>\n",
       "      <th>Våldtäkter per 10k inv</th>\n",
       "      <th>Rökande gravida, procent</th>\n",
       "    </tr>\n",
       "    <tr>\n",
       "      <th>Kommun</th>\n",
       "      <th></th>\n",
       "      <th></th>\n",
       "      <th></th>\n",
       "      <th></th>\n",
       "      <th></th>\n",
       "      <th></th>\n",
       "      <th></th>\n",
       "      <th></th>\n",
       "      <th></th>\n",
       "      <th></th>\n",
       "      <th></th>\n",
       "      <th></th>\n",
       "      <th></th>\n",
       "      <th></th>\n",
       "      <th></th>\n",
       "      <th></th>\n",
       "      <th></th>\n",
       "      <th></th>\n",
       "      <th></th>\n",
       "      <th></th>\n",
       "      <th></th>\n",
       "    </tr>\n",
       "  </thead>\n",
       "  <tbody>\n",
       "    <tr>\n",
       "      <th>Ale</th>\n",
       "      <td>10.64</td>\n",
       "      <td>21.08</td>\n",
       "      <td>4.95</td>\n",
       "      <td>3.28</td>\n",
       "      <td>3.50</td>\n",
       "      <td>33.59</td>\n",
       "      <td>6.25</td>\n",
       "      <td>5.70</td>\n",
       "      <td>0.18</td>\n",
       "      <td>10.83</td>\n",
       "      <td>...</td>\n",
       "      <td>0.000141</td>\n",
       "      <td>0.054257</td>\n",
       "      <td>0.016427</td>\n",
       "      <td>0.039285</td>\n",
       "      <td>0.002159</td>\n",
       "      <td>0.009058</td>\n",
       "      <td>0.000188</td>\n",
       "      <td>0.150005</td>\n",
       "      <td>2.1</td>\n",
       "      <td>4.4</td>\n",
       "    </tr>\n",
       "    <tr>\n",
       "      <th>Alingsås</th>\n",
       "      <td>7.48</td>\n",
       "      <td>21.58</td>\n",
       "      <td>6.17</td>\n",
       "      <td>10.30</td>\n",
       "      <td>6.44</td>\n",
       "      <td>29.19</td>\n",
       "      <td>6.85</td>\n",
       "      <td>10.81</td>\n",
       "      <td>0.30</td>\n",
       "      <td>0.89</td>\n",
       "      <td>...</td>\n",
       "      <td>0.000068</td>\n",
       "      <td>0.052143</td>\n",
       "      <td>0.009086</td>\n",
       "      <td>0.053940</td>\n",
       "      <td>0.001729</td>\n",
       "      <td>0.014883</td>\n",
       "      <td>0.000203</td>\n",
       "      <td>0.154902</td>\n",
       "      <td>4.8</td>\n",
       "      <td>3.8</td>\n",
       "    </tr>\n",
       "    <tr>\n",
       "      <th>Alvesta</th>\n",
       "      <td>14.44</td>\n",
       "      <td>19.70</td>\n",
       "      <td>14.89</td>\n",
       "      <td>1.74</td>\n",
       "      <td>3.12</td>\n",
       "      <td>28.77</td>\n",
       "      <td>4.08</td>\n",
       "      <td>3.49</td>\n",
       "      <td>0.20</td>\n",
       "      <td>9.56</td>\n",
       "      <td>...</td>\n",
       "      <td>0.002950</td>\n",
       "      <td>0.042747</td>\n",
       "      <td>0.014082</td>\n",
       "      <td>0.082378</td>\n",
       "      <td>0.000946</td>\n",
       "      <td>0.015418</td>\n",
       "      <td>0.000000</td>\n",
       "      <td>0.182122</td>\n",
       "      <td>2.0</td>\n",
       "      <td>4.8</td>\n",
       "    </tr>\n",
       "    <tr>\n",
       "      <th>Aneby</th>\n",
       "      <td>9.38</td>\n",
       "      <td>11.19</td>\n",
       "      <td>20.46</td>\n",
       "      <td>4.06</td>\n",
       "      <td>14.82</td>\n",
       "      <td>31.30</td>\n",
       "      <td>2.19</td>\n",
       "      <td>5.75</td>\n",
       "      <td>0.05</td>\n",
       "      <td>0.80</td>\n",
       "      <td>...</td>\n",
       "      <td>0.003179</td>\n",
       "      <td>0.042438</td>\n",
       "      <td>0.011197</td>\n",
       "      <td>0.119712</td>\n",
       "      <td>0.000968</td>\n",
       "      <td>0.017556</td>\n",
       "      <td>0.000000</td>\n",
       "      <td>0.199198</td>\n",
       "      <td>1.5</td>\n",
       "      <td>0.0</td>\n",
       "    </tr>\n",
       "    <tr>\n",
       "      <th>Arboga</th>\n",
       "      <td>9.75</td>\n",
       "      <td>20.54</td>\n",
       "      <td>5.53</td>\n",
       "      <td>7.57</td>\n",
       "      <td>4.08</td>\n",
       "      <td>39.04</td>\n",
       "      <td>5.77</td>\n",
       "      <td>5.62</td>\n",
       "      <td>0.14</td>\n",
       "      <td>1.96</td>\n",
       "      <td>...</td>\n",
       "      <td>0.001810</td>\n",
       "      <td>0.043954</td>\n",
       "      <td>0.010256</td>\n",
       "      <td>0.060502</td>\n",
       "      <td>0.006722</td>\n",
       "      <td>0.009997</td>\n",
       "      <td>0.000172</td>\n",
       "      <td>0.170818</td>\n",
       "      <td>2.2</td>\n",
       "      <td>13.2</td>\n",
       "    </tr>\n",
       "  </tbody>\n",
       "</table>\n",
       "<p>5 rows × 35 columns</p>\n",
       "</div>"
      ],
      "text/plain": [
       "             SD      M      C     FP     KD      S     V     MP    FI    ÖVR  \\\n",
       "Kommun                                                                         \n",
       "Ale       10.64  21.08   4.95   3.28   3.50  33.59  6.25   5.70  0.18  10.83   \n",
       "Alingsås   7.48  21.58   6.17  10.30   6.44  29.19  6.85  10.81  0.30   0.89   \n",
       "Alvesta   14.44  19.70  14.89   1.74   3.12  28.77  4.08   3.49  0.20   9.56   \n",
       "Aneby      9.38  11.19  20.46   4.06  14.82  31.30  2.19   5.75  0.05   0.80   \n",
       "Arboga     9.75  20.54   5.53   7.57   4.08  39.04  5.77   5.62  0.14   1.96   \n",
       "\n",
       "                    ...             Bussar, 2015, procent  \\\n",
       "Kommun              ...                                     \n",
       "Ale                 ...                          0.000141   \n",
       "Alingsås            ...                          0.000068   \n",
       "Alvesta             ...                          0.002950   \n",
       "Aneby               ...                          0.003179   \n",
       "Arboga              ...                          0.001810   \n",
       "\n",
       "          Motorcyklar, 2015, procent  Mopeder, 2015, procent  \\\n",
       "Kommun                                                         \n",
       "Ale                         0.054257                0.016427   \n",
       "Alingsås                    0.052143                0.009086   \n",
       "Alvesta                     0.042747                0.014082   \n",
       "Aneby                       0.042438                0.011197   \n",
       "Arboga                      0.043954                0.010256   \n",
       "\n",
       "          Traktorer, 2015, procent  Snöskotrar, 2015, procent  \\\n",
       "Kommun                                                          \n",
       "Ale                       0.039285                   0.002159   \n",
       "Alingsås                  0.053940                   0.001729   \n",
       "Alvesta                   0.082378                   0.000946   \n",
       "Aneby                     0.119712                   0.000968   \n",
       "Arboga                    0.060502                   0.006722   \n",
       "\n",
       "          Terränghjulingar, 2015, procent  Terrängskotrar1), 2015, procent  \\\n",
       "Kommun                                                                       \n",
       "Ale                              0.009058                         0.000188   \n",
       "Alingsås                         0.014883                         0.000203   \n",
       "Alvesta                          0.015418                         0.000000   \n",
       "Aneby                            0.017556                         0.000000   \n",
       "Arboga                           0.009997                         0.000172   \n",
       "\n",
       "          Släpvagnar, 2015, procent  Våldtäkter per 10k inv  \\\n",
       "Kommun                                                        \n",
       "Ale                        0.150005                     2.1   \n",
       "Alingsås                   0.154902                     4.8   \n",
       "Alvesta                    0.182122                     2.0   \n",
       "Aneby                      0.199198                     1.5   \n",
       "Arboga                     0.170818                     2.2   \n",
       "\n",
       "          Rökande gravida, procent  \n",
       "Kommun                              \n",
       "Ale                            4.4  \n",
       "Alingsås                       3.8  \n",
       "Alvesta                        4.8  \n",
       "Aneby                          0.0  \n",
       "Arboga                        13.2  \n",
       "\n",
       "[5 rows x 35 columns]"
      ]
     },
     "execution_count": 18,
     "metadata": {},
     "output_type": "execute_result"
    }
   ],
   "source": [
    "concat = pd.concat([\n",
    "        votes,\n",
    "        utrikesfodda,\n",
    "        medianalder, \n",
    "        brott, \n",
    "        medianinkomst, \n",
    "        arbetsloshet, \n",
    "        fortidspensionarer, \n",
    "        hogskoleutbildning, \n",
    "        befolkningsokning,\n",
    "        foretagsklimat, \n",
    "        valdsbrott,\n",
    "        knarkbrott,\n",
    "        asylsokande,\n",
    "        fordon,\n",
    "        valdtakter,\n",
    "        rokande_grav,\n",
    "    ], \n",
    "    axis=1,\n",
    "    join='inner')\n",
    "concat.head(5)"
   ]
  },
  {
   "cell_type": "markdown",
   "metadata": {},
   "source": [
    "Pandas gives us the method `corr` that by default uses Persons `r` to show correlations between columns. Let's start of by using this simple frequentistic approach."
   ]
  },
  {
   "cell_type": "code",
   "execution_count": 19,
   "metadata": {
    "collapsed": false
   },
   "outputs": [],
   "source": [
    "corr_matrix = concat.corr()\n",
    "corr = concat.corr()\n",
    "\n",
    "# Keep only parties as columns\n",
    "corr = corr.loc[:, corr.columns.isin(partier)] \n",
    "# Keep only KPIs as rows\n",
    "corr = corr[~corr.index.isin(partier)]"
   ]
  },
  {
   "cell_type": "markdown",
   "metadata": {},
   "source": [
    "And use Seaborn:s `heatmap` to give us a nice visual representation of the correlation table."
   ]
  },
  {
   "cell_type": "code",
   "execution_count": 20,
   "metadata": {
    "collapsed": false
   },
   "outputs": [
    {
     "data": {
      "image/png": "[encoded data removed]",
      "text/plain": [
       "<matplotlib.figure.Figure at 0x111aaf350>"
      ]
     },
     "metadata": {},
     "output_type": "display_data"
    }
   ],
   "source": [
    "fig1 = plt.figure(figsize=(8, 8))\n",
    "ax = sns.heatmap(\n",
    "    corr, \n",
    "    annot=True, fmt='.1f', linewidths=.5\n",
    ")\n",
    "\n",
    "ax.text(-1., 1.141, \n",
    "        u'Korrelation med andel riksdagsröster',\n",
    "        verticalalignment='bottom', horizontalalignment='left',\n",
    "        transform=ax.transAxes,\n",
    "        color='#000000', fontsize=14)\n",
    "\n",
    "ax.text(-1., -0.181, \n",
    "        u'Källa: BRÅ/SCB/Val.se/Ekonomifakta.se – Korrelationen är på kommunnivå och Pearson-korr har använts',\n",
    "        verticalalignment='bottom', horizontalalignment='left',\n",
    "        transform=ax.transAxes,\n",
    "        color='#666666', fontsize=8)\n",
    "\n",
    "plt.savefig('SD_korr.pdf', bbox_inches='tight')"
   ]
  },
  {
   "cell_type": "markdown",
   "metadata": {},
   "source": [
    "First of, a Persons `r` correlation ranges from 0 to 1. Zero meaning no correlation and one full correlation. Depending on textbook, somewhere over 0.4 will be a correlations to take seriously. But let's get back to that in a moment.\n",
    "\n",
    "Some interesting correlations are though:\n",
    "\n",
    "  - The right-wing populist party the Sweden Democrats (SD in the figure) \n",
    "    - Correlations with municipailtys having large porportions **motorcycles**,\n",
    "    - and women **smoking while pregnant**.\n",
    "    - Also high unemployment rate shows some correlation.\n",
    "  - Right wing Moderaterna (M)\n",
    "    - High percentage mopeds\n",
    "    - High percentage cars\n",
    "    - High education\n",
    "    - High income\n",
    "  - The Greens Miljöpartiet (MP)\n",
    "    - Pretty much the same as Moderaterna. Only not that high income.\n",
    "  - Centerpartiet (C) historically a party for the farmers\n",
    "    - High correlation with tractors"
   ]
  },
  {
   "cell_type": "markdown",
   "metadata": {},
   "source": [
    "So let's go into detail what a correlation of 0.5 actually is. Is it a fully linear correlation between smoking while pregnant and votage on xenophobic parties? Let's plot the municipalitys with these KPI:s on the axis."
   ]
  },
  {
   "cell_type": "code",
   "execution_count": 21,
   "metadata": {
    "collapsed": false
   },
   "outputs": [
    {
     "data": {
      "image/png": "[encoded data removed]",
      "text/plain": [
       "<matplotlib.figure.Figure at 0x111acd350>"
      ]
     },
     "metadata": {},
     "output_type": "display_data"
    }
   ],
   "source": [
    "def corrplot_SD(kpi):\n",
    "    (concat.replace(0, np.nan).dropna()\n",
    "           .plot(kind='scatter', \n",
    "                 x=kpi, \n",
    "                 y=u'SD'))\n",
    "\n",
    "corrplot_SD(u'Rökande gravida, procent')"
   ]
  },
  {
   "cell_type": "markdown",
   "metadata": {},
   "source": [
    "If you ask me, that looks like a correlation. But that's also what I want to see since the Sweden Democrats is pretty much as far away from my personal political opinions you can go. I'd pretty much take any chance to misscredit them. So let's go further down the rabbit hole, but first plot the other KPIs."
   ]
  },
  {
   "cell_type": "code",
   "execution_count": 22,
   "metadata": {
    "collapsed": false
   },
   "outputs": [
    {
     "data": {
      "image/png": "[encoded data removed]",
      "text/plain": [
       "<matplotlib.figure.Figure at 0x1067b8bd0>"
      ]
     },
     "metadata": {},
     "output_type": "display_data"
    }
   ],
   "source": [
    "corrplot_SD(u'Motorcyklar, 2015, procent')"
   ]
  },
  {
   "cell_type": "code",
   "execution_count": 23,
   "metadata": {
    "collapsed": false
   },
   "outputs": [
    {
     "data": {
      "image/png": "[encoded data removed]",
      "text/plain": [
       "<matplotlib.figure.Figure at 0x10a08b790>"
      ]
     },
     "metadata": {},
     "output_type": "display_data"
    }
   ],
   "source": [
    "corrplot_SD(u'Öppen arbetslöshet (Arbetsförmedlingen), 2015, procent')"
   ]
  },
  {
   "cell_type": "markdown",
   "metadata": {},
   "source": [
    "We are now going to calculate the `r` coefficient in a Bayesian fashion with Monte Carlo Markov Chains (MCMC). That will give us a distribution over `r` instead of a single number which allows us to give a upper and lower bound of the correlation. This closely follows the method described by [Philipp Singer here](http://www.philippsinger.info/?p=581).\n",
    "\n",
    "You should read his blog post if you want more details. And in more general, Monte Carlo simulations is a really appealing way to solve problems. Whenever I get the chance, I recommend [Bayesian methods for hackers](https://github.com/CamDavidsonPilon/Probabilistic-Programming-and-Bayesian-Methods-for-Hackers). The topics covered there should really be in any data scientist tool belt."
   ]
  },
  {
   "cell_type": "code",
   "execution_count": 24,
   "metadata": {
    "collapsed": false
   },
   "outputs": [],
   "source": [
    "import pymc as pymc\n",
    "from pymc import Normal, Uniform, MvNormal, Exponential\n",
    "from numpy.linalg import inv, det\n",
    "from numpy import log, pi, dot\n",
    "import numpy as np\n",
    "from scipy.special import gammaln\n",
    "\n",
    "def _model(data):\n",
    "    mu = Normal('mu', 0, 0.000001, size=2)\n",
    "    sigma = Uniform('sigma', 0, 1000, size=2)\n",
    "    rho = Uniform('r', -1, 1)\n",
    "    \n",
    "    @pymc.deterministic\n",
    "    def precision(sigma=sigma, rho=rho):\n",
    "        ss1 = float(sigma[0] * sigma[0])\n",
    "        ss2 = float(sigma[1] * sigma[1])\n",
    "        rss = float(rho * sigma[0] * sigma[1])\n",
    "        return inv(np.mat([[ss1, rss], \n",
    "                           [rss, ss2]]))\n",
    "    \n",
    "    mult_n = MvNormal('mult_n', mu=mu, tau=precision, value=data.T, observed=True)\n",
    "    \n",
    "    return locals()\n",
    "    \n",
    "def analyze(kpi):\n",
    "    freq_corr = corr.loc[kpi, 'SD']\n",
    "    print \"Standard Persons r correlations gave {}\".format(freq_corr)\n",
    "    data = np.array([concat['SD'].values, concat[kpi].values])\n",
    "    model = pymc.MCMC(_model(data)) \n",
    "    model.sample(10000, 5000) \n",
    "    \n",
    "    print \"\\nMCMC gives an lower and upper bound for this of {} and {}\".format(\n",
    "        *model.stats()['r']['95% HPD interval']\n",
    "    )"
   ]
  },
  {
   "cell_type": "code",
   "execution_count": 25,
   "metadata": {
    "collapsed": false
   },
   "outputs": [
    {
     "name": "stdout",
     "output_type": "stream",
     "text": [
      "Standard Persons r correlations gave 0.483367702644\n",
      " [-----------------100%-----------------] 10000 of 10000 complete in 24.5 sec\n",
      "MCMC gives an lower and upper bound for this of 0.380729613024 and 0.795371509464\n"
     ]
    }
   ],
   "source": [
    "analyze(u'Rökande gravida, procent')"
   ]
  },
  {
   "cell_type": "markdown",
   "metadata": {
    "collapsed": true
   },
   "source": [
    "This tells us that the correlation is statistically sound. No `p`-values, just a interval that the true `r` should be in with 95 % probability. Even if it's *just* the lower bound 0.38 it's a correlation worth mentioning. But of course, it does not tell us if **correlation imply causation**. "
   ]
  },
  {
   "cell_type": "code",
   "execution_count": null,
   "metadata": {
    "collapsed": true
   },
   "outputs": [],
   "source": []
  }
 ],
 "metadata": {
  "kernelspec": {
   "display_name": "Python 2",
   "language": "python",
   "name": "python2"
  },
  "language_info": {
   "codemirror_mode": {
    "name": "ipython",
    "version": 2
   },
   "file_extension": ".py",
   "mimetype": "text/x-python",
   "name": "python",
   "nbconvert_exporter": "python",
   "pygments_lexer": "ipython2",
   "version": "2.7.12"
  }
 },
 "nbformat": 4,
 "nbformat_minor": 0
}
